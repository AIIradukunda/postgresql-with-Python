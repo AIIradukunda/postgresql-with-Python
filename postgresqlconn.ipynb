{
 "cells": [
  {
   "cell_type": "code",
   "execution_count": 7,
   "metadata": {},
   "outputs": [
    {
     "name": "stdout",
     "output_type": "stream",
     "text": [
      "                             sales  discount      profit\n",
      "ship_mode      region                                   \n",
      "First Class    Central   39755.786     22.00  10425.3225\n",
      "               East      89072.144     30.80  24882.0164\n",
      "               South     41483.026     16.00   9305.1638\n",
      "               West     113827.291     38.35  27017.6014\n",
      "Same Day       Central   14296.248      8.10   3426.1009\n",
      "               East      34810.540     10.40  10273.4440\n",
      "               South     11856.940      6.40   2431.7991\n",
      "               West      38874.602     11.70   8658.5158\n",
      "Second Class   Central   77229.387     33.00  18111.6123\n",
      "               East      79853.660     28.80  19701.7193\n",
      "               South     81257.958     19.40  19325.6233\n",
      "               West     136456.572     45.20  24532.0483\n",
      "Standard Class Central  224541.441     85.80  64058.2170\n",
      "               East     305479.679     94.50  86256.2135\n",
      "               South    159423.476     68.00  43191.6884\n",
      "               West     352588.214    134.60  70931.2365\n"
     ]
    }
   ],
   "source": [
    "#! pip install  psycopg2\n",
    "import psycopg2\n",
    "import pandas as pd\n",
    "import matplotlib.pyplot as plt\n",
    "import numpy as np\n",
    "#import pg\n",
    "def postgresql_conn():\n",
    "    # Connection for source data tables\n",
    "    conn = psycopg2.connect(dbname=\"practicedb\", user=\"postgres\",password=\"root123\", host=\"localhost\",port =\"5432\",)\n",
    "    db_cursor = conn.cursor()\n",
    "    #db_cursor.execute(\"select * from employees\")\n",
    "    #conn.commit()\n",
    "    df = pd.read_sql(\"select * from Superstore where profit>0\", conn)\n",
    "    df.rename(columns={'row_id': 'id'}, inplace=True)\n",
    "    #df.columns\n",
    "    return df\n",
    "def plotting():\n",
    "    df=postgresql_conn()\n",
    "    #df1=df.groupby('city')['id'].nunique()\n",
    "    #https://queirozf.com/entries/pandas-dataframe-plot-examples-with-matplotlib-pyplot\n",
    "    ax = plt.gca()\n",
    "    df.plot(kind='bar', x='ship_mode', y='sales', color='blue',ax=ax)\n",
    "    df.plot(kind='bar', x='ship_mode', y='profit', color='red',ax=ax)\n",
    "    plt.show()\n",
    "    #print(df1)\n",
    "def df_subset():\n",
    "   # data transformation\n",
    "   # .loc Subset using index position\n",
    "   # df[[0]]  will return the first column  and df.loc[0] returns the first row and df.loc[-1] the last row\n",
    "   df=postgresql_conn()\n",
    "   subset=df[['ship_mode','sales','profit','region','quantity','discount','city']]\n",
    "   #print(subset)\n",
    "   #print(subset.loc[[0,10,20]])\n",
    "   #iloc does the same thing as loc but it is used to subset by the row index number Subset using index position\n",
    "   #print('-----iloc----')\n",
    "   # print(subset.iloc[[0,10,20]])\n",
    "\n",
    "   groupbyall=subset.groupby(['ship_mode','region'])[['sales','discount','profit']].sum()\n",
    "   groupbyshipment=subset.groupby('ship_mode')['sales'].sum()\n",
    "   print(groupbyall)\n",
    "if __name__ == \"__main__\":\n",
    "    #print(postgresql_conn())\n",
    "    df_subset()\n",
    "    #plotting()"
   ]
  },
  {
   "cell_type": "code",
   "execution_count": null,
   "metadata": {},
   "outputs": [],
   "source": []
  },
  {
   "cell_type": "code",
   "execution_count": null,
   "metadata": {},
   "outputs": [],
   "source": []
  }
 ],
 "metadata": {
  "kernelspec": {
   "display_name": "Python 3",
   "language": "python",
   "name": "python3"
  },
  "language_info": {
   "codemirror_mode": {
    "name": "ipython",
    "version": 3
   },
   "file_extension": ".py",
   "mimetype": "text/x-python",
   "name": "python",
   "nbconvert_exporter": "python",
   "pygments_lexer": "ipython3",
   "version": "3.7.6"
  }
 },
 "nbformat": 4,
 "nbformat_minor": 4
}
